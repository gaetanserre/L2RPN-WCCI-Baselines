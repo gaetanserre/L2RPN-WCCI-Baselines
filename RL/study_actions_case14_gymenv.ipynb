{
 "cells": [
  {
   "cell_type": "code",
   "execution_count": 97,
   "metadata": {},
   "outputs": [
    {
     "name": "stderr",
     "output_type": "stream",
     "text": [
      "/home/boguslawskieva/miniconda3/envs/baselines_dev/lib/python3.8/site-packages/ipykernel/ipkernel.py:283: DeprecationWarning: `should_run_async` will not call `transform_cell` automatically in the future. Please pass the result to `transformed_cell` argument and any exception that happen during thetransform in `preprocessing_exc_tuple` in IPython 7.17 and above.\n",
      "  and should_run_async(code)\n"
     ]
    }
   ],
   "source": [
    "import sys\n",
    "import os\n",
    "import grid2op\n",
    "from lightsim2grid import LightSimBackend\n",
    "import inspect\n",
    "import pdb\n",
    "import numpy as np\n",
    "import pandas as pd\n",
    "from grid2op.Reward import GameplayReward\n",
    "\n",
    "# from grid2op.gym_compat import GymEnv\n",
    "# from l2rpn_baselines.utils import GymEnvWithRecoWithDN, GymEnvWithHeuristics\n",
    "# from grid2op.Chronics.multiFolder import Multifolder\n",
    "# from GymEnvStorage import GymEnvStorage\n",
    "from GymEnvWithSetPoint import GymEnvWithSetPoint\n",
    "from grid2op.gym_compat import BoxGymActSpace, BoxGymObsSpace\n",
    "\n",
    "# from grid2op.Observation import BaseObservation\n",
    "# from typing import Tuple, Dict\n",
    "\n",
    "# from l2rpn_baselines.utils import GymAgent\n",
    "from tqdm import tqdm\n",
    "import seaborn as sns\n",
    "import matplotlib.pyplot as plt\n",
    "import json"
   ]
  },
  {
   "cell_type": "code",
   "execution_count": 8,
   "metadata": {},
   "outputs": [
    {
     "data": {
      "text/plain": [
       "(1.0,\n",
       " {'disc_lines': array([-1, -1, -1, -1, -1, -1, -1, -1, -1, -1, -1, -1, -1, -1, -1, -1, -1,\n",
       "         -1, -1, -1], dtype=int32),\n",
       "  'is_illegal': False,\n",
       "  'is_ambiguous': False,\n",
       "  'is_dispatching_illegal': False,\n",
       "  'is_illegal_reco': False,\n",
       "  'reason_alarm_illegal': None,\n",
       "  'opponent_attack_line': None,\n",
       "  'opponent_attack_sub': None,\n",
       "  'opponent_attack_duration': 0,\n",
       "  'exception': [],\n",
       "  'rewards': {}})"
      ]
     },
     "execution_count": 8,
     "metadata": {},
     "output_type": "execute_result"
    }
   ],
   "source": [
    "env = grid2op.make(\"educ_case14_storage_custom\",\n",
    "                    backend=LightSimBackend(),\n",
    "                    reward_class=GameplayReward,\n",
    "                    )\n",
    "obs = env.reset()\n",
    "obs, reward, done, info = env.step(env.action_space())\n",
    "reward, info"
   ]
  },
  {
   "cell_type": "code",
   "execution_count": 126,
   "metadata": {},
   "outputs": [],
   "source": [
    "from l2rpn_baselines.PPO_SB3.utils import SB3Agent\n",
    "from grid2op.gym_compat import BoxGymActSpace, BoxGymObsSpace\n",
    "from GymEnvWithRecoWithDNWithShuffle import GymEnvWithRecoWithDNWithShuffle\n",
    "from run_trained_agents import BaselineAgent\n",
    "from stable_baselines3 import PPO\n",
    "\n",
    "def get_agent(weights_dir, env, safe_max_rho=0.2, limit_cs_margin=-1):\n",
    "    \"\"\"this is basically a copy paste of the PPO_SB3 evaluate function with some minor modification\n",
    "    used to load the correct weights\n",
    "    \"\"\"\n",
    "    agent_dir = os.path.dirname(weights_dir)\n",
    "    submission_dir = os.path.dirname(agent_dir)\n",
    "\n",
    "    # compute the score of said agent\n",
    "    with open(os.path.join(submission_dir, \"preprocess_obs.json\"), 'r', encoding=\"utf-8\") as f:\n",
    "        obs_space_kwargs = json.load(f)\n",
    "    obs_space_kwargs[\"functs\"] = {\"storage_capacity_setpoint\":\n",
    "                                        (lambda grid2op_obs: np.full(env.n_storage, env.parameters.INIT_STORAGE_CAPACITY), 0., 1.0, None, None)}\n",
    "    with open(os.path.join(submission_dir, \"preprocess_act.json\"), 'r', encoding=\"utf-8\") as f:\n",
    "        act_space_kwargs = json.load(f)\n",
    "    \n",
    "    # load the attributes kept\n",
    "    with open(os.path.join(agent_dir, \"obs_attr_to_keep.json\"), encoding=\"utf-8\", mode=\"r\") as f:\n",
    "        obs_attr_to_keep = json.load(fp=f)\n",
    "    with open(os.path.join(agent_dir, \"act_attr_to_keep.json\"), encoding=\"utf-8\", mode=\"r\") as f:\n",
    "        act_attr_to_keep = json.load(fp=f)\n",
    "\n",
    "    # create the action and observation space\n",
    "    gym_observation_space =  BoxGymObsSpace(env.observation_space,\n",
    "                                            attr_to_keep=obs_attr_to_keep,\n",
    "                                            **obs_space_kwargs)\n",
    "    gym_action_space = BoxGymActSpace(env.action_space,\n",
    "                                      attr_to_keep=act_attr_to_keep,\n",
    "                                      **act_space_kwargs)\n",
    "\n",
    "    # apply normalization on created gym_observation_space and gym_action_space\n",
    "    for attr_nm in act_attr_to_keep:\n",
    "            if ((\"multiply\" in act_space_kwargs and attr_nm in act_space_kwargs[\"multiply\"]) or \n",
    "                (\"add\" in act_space_kwargs and attr_nm in act_space_kwargs[\"add\"]) \n",
    "               ):\n",
    "                # attribute is scaled elsewhere\n",
    "                continue\n",
    "            gym_action_space.normalize_attr(attr_nm)\n",
    "    \n",
    "    for attr_nm in obs_attr_to_keep:\n",
    "            if ((\"divide\" in obs_space_kwargs and attr_nm in obs_space_kwargs[\"divide\"]) or \n",
    "                (\"subtract\" in obs_space_kwargs and attr_nm in obs_space_kwargs[\"subtract\"]) \n",
    "               ):\n",
    "                # attribute is scaled elsewhere\n",
    "                continue\n",
    "            gym_observation_space.normalize_attr(attr_nm)\n",
    "    \n",
    "    # create the gym environment for the PPO agent...\n",
    "    gymenv = GymEnvWithSetPoint(env, safe_max_rho=float(safe_max_rho), shuffle_chronics=False)    \n",
    "    gymenv.action_space.close()\n",
    "    gymenv.action_space = gym_action_space\n",
    "    gymenv.observation_space.close()\n",
    "    gymenv.observation_space = gym_observation_space\n",
    "    \n",
    "    # create a grid2gop agent based on that (this will reload the save weights)\n",
    "    l2rpn_agent = SB3Agent(env.action_space,\n",
    "                           gym_action_space,\n",
    "                           gym_observation_space,\n",
    "                           nn_path=weights_dir,\n",
    "                           gymenv=gymenv\n",
    "                           )\n",
    "    \n",
    "    agent_to_evaluate = BaselineAgent(l2rpn_agent, limit_cs_margin)\n",
    "    return agent_to_evaluate"
   ]
  },
  {
   "cell_type": "code",
   "execution_count": 127,
   "metadata": {},
   "outputs": [
    {
     "name": "stdout",
     "output_type": "stream",
     "text": [
      "name: case14_random_stor_setpoint_20230228_151131_gymenv_kwargs_0\n",
      "Wrapping the env with a `Monitor` wrapper\n",
      "Wrapping the env in a DummyVecEnv.\n"
     ]
    },
    {
     "name": "stderr",
     "output_type": "stream",
     "text": [
      "/home/boguslawskieva/miniconda3/envs/baselines_dev/lib/python3.8/site-packages/gym/core.py:329: DeprecationWarning: \u001b[33mWARN: Initializing wrapper in old step API which returns one bool instead of two. It is recommended to set `new_step_api=True` to use new step API. This will be the default behaviour in future.\u001b[0m\n",
      "  deprecation(\n"
     ]
    },
    {
     "data": {
      "text/plain": [
       "<run_trained_agents.BaselineAgent at 0x7f813fee40d0>"
      ]
     },
     "execution_count": 127,
     "metadata": {},
     "output_type": "execute_result"
    }
   ],
   "source": [
    "# path_agents = \"./saved_model/expe_case_14/expe_hp/\"\n",
    "path_agents = \"./saved_model/expe_case_14/expe_to_run/\"\n",
    "machine_dir = \"case14_random_stor_setpoint\"\n",
    "\n",
    "root_dir = os.path.abspath(path_agents)\n",
    "submission_dir  = os.path.join(root_dir, machine_dir)\n",
    "list_names = [name for name in os.listdir(submission_dir) if name.endswith(\"0\")]\n",
    "name = list_names[0]\n",
    "print(\"name:\", name)\n",
    "\n",
    "training_iter = 5_000_000\n",
    "\n",
    "agent_dir = os.path.join(submission_dir, name)\n",
    "weights_dir = os.path.join(agent_dir, f\"{name}_{training_iter}_steps.zip\")\n",
    "\n",
    "agent = get_agent(weights_dir,\n",
    "                                env,\n",
    "                                0.2,\n",
    "                                -1)\n",
    "gym_env = agent.l2rpn_agent.gymenv\n",
    "agent"
   ]
  },
  {
   "cell_type": "code",
   "execution_count": 183,
   "metadata": {},
   "outputs": [
    {
     "name": "stderr",
     "output_type": "stream",
     "text": [
      "/home/boguslawskieva/miniconda3/envs/baselines_dev/lib/python3.8/site-packages/ipykernel/ipkernel.py:283: DeprecationWarning: `should_run_async` will not call `transform_cell` automatically in the future. Please pass the result to `transformed_cell` argument and any exception that happen during thetransform in `preprocessing_exc_tuple` in IPython 7.17 and above.\n",
      "  and should_run_async(code)\n"
     ]
    }
   ],
   "source": [
    "NB_EPISODE = len(env.chronics_handler.real_data.available_chronics())\n",
    "\n",
    "def run_episodes(agent, nb_episode=NB_EPISODE):\n",
    "    gymenv = agent.l2rpn_agent.gymenv\n",
    "    dict_res = {}\n",
    "    for ep_id in range(nb_episode):\n",
    "        chronic_name = gym_env.init_env.chronics_handler.get_name()\n",
    "        dict_res[chronic_name] = {}\n",
    "        all_obs, all_gymobs, all_rews, all_rews_bu, all_acts, all_ts = [], [], [], [], [], []\n",
    "        for key in (\"all_obs\", \"all_gymobs\", \"all_rews\", \"all_rews_bu\", \"all_acts\", \"all_ts\"):\n",
    "            dict_res[chronic_name][key] = locals()[key]\n",
    "        \n",
    "\n",
    "        # Initialisation\n",
    "        gymenv.reset()\n",
    "        dict_res[chronic_name][\"all_storage_setpoints\"] = gymenv.storage_setpoint\n",
    "        obs = gymenv.init_env.get_obs()\n",
    "        reward = env.reward_range[0]\n",
    "        done = False\n",
    "        # Save\n",
    "        all_obs.append(obs)\n",
    "        all_gymobs.append(gymenv.get_obs())\n",
    "        all_ts.append(gymenv.init_env.nb_time_step)\n",
    "        all_rews.append(reward)\n",
    "        all_rews_bu.append(reward)\n",
    "        with tqdm(total=env.chronics_handler.max_timestep(), disable=False) as pbar:\n",
    "            while True:\n",
    "                # Apply the action of the agent\n",
    "                action = agent.act(obs, reward, done)   \n",
    "                obs, reward, done, info = gymenv.init_env.step(action)\n",
    "                # Update reward\n",
    "                all_rews_bu.append(reward)\n",
    "                reward = gymenv._update_reward(obs, reward)\n",
    "                # Apply heuristic\n",
    "                if not done:\n",
    "                    obs, reward, done, info = gymenv.apply_heuristics_actions(obs, reward, done, info)\n",
    "                # Update gym obs\n",
    "                gymobs_tmp = gymenv.observation_space.to_gym(obs)\n",
    "                gymobs = gymenv._update_setpoint(gymobs_tmp, \"storage_capacity_setpoint\", gymenv.storage_setpoint[gymenv.init_env.nb_time_step, :])\n",
    "                gymenv._last_obs = gymobs\n",
    "                # Save\n",
    "                all_obs.append(obs)\n",
    "                all_gymobs.append(gymenv.get_obs())\n",
    "                all_acts.append(action.set_storage)\n",
    "                all_rews.append(reward)\n",
    "                all_ts.append(gymenv.init_env.nb_time_step)\n",
    "                pbar.update(1)\n",
    "                if done:\n",
    "                    break\n",
    "        all_acts.append(np.full(env.n_storage, np.nan))\n",
    "    return dict_res"
   ]
  },
  {
   "cell_type": "code",
   "execution_count": 184,
   "metadata": {},
   "outputs": [
    {
     "name": "stderr",
     "output_type": "stream",
     "text": [
      " 78%|███████▊  | 224/288 [00:00<00:00, 306.99it/s]\n",
      "100%|██████████| 288/288 [00:00<00:00, 316.47it/s]\n",
      " 82%|████████▏ | 236/288 [00:00<00:00, 322.16it/s]\n",
      "100%|██████████| 288/288 [00:01<00:00, 225.00it/s]\n",
      " 33%|███▎      | 94/288 [00:00<00:00, 316.83it/s]\n",
      "100%|██████████| 288/288 [00:00<00:00, 316.60it/s]\n",
      "100%|██████████| 288/288 [00:00<00:00, 322.23it/s]\n"
     ]
    },
    {
     "data": {
      "text/plain": [
       "dict_keys(['2019-01-13', '2019-01-14', '2019-01-15', '2019-01-16', '2019-01-17', '2019-01-18', '2019-01-12'])"
      ]
     },
     "execution_count": 184,
     "metadata": {},
     "output_type": "execute_result"
    }
   ],
   "source": [
    "dict_res = run_episodes(agent)\n",
    "dict_res.keys()"
   ]
  },
  {
   "cell_type": "code",
   "execution_count": 185,
   "metadata": {},
   "outputs": [
    {
     "name": "stderr",
     "output_type": "stream",
     "text": [
      "/home/boguslawskieva/miniconda3/envs/baselines_dev/lib/python3.8/site-packages/ipykernel/ipkernel.py:283: DeprecationWarning: `should_run_async` will not call `transform_cell` automatically in the future. Please pass the result to `transformed_cell` argument and any exception that happen during thetransform in `preprocessing_exc_tuple` in IPython 7.17 and above.\n",
      "  and should_run_async(code)\n"
     ]
    },
    {
     "data": {
      "text/plain": [
       "dict_keys(['all_obs', 'all_gymobs', 'all_rews', 'all_rews_bu', 'all_acts', 'all_ts', 'all_storage_setpoints'])"
      ]
     },
     "execution_count": 185,
     "metadata": {},
     "output_type": "execute_result"
    }
   ],
   "source": [
    "chronic_name = \"2019-01-12\"\n",
    "dict_chronic = dict_res[\"2019-01-12\"]\n",
    "dict_chronic.keys()"
   ]
  },
  {
   "cell_type": "code",
   "execution_count": 187,
   "metadata": {},
   "outputs": [
    {
     "name": "stderr",
     "output_type": "stream",
     "text": [
      "/home/boguslawskieva/miniconda3/envs/baselines_dev/lib/python3.8/site-packages/ipykernel/ipkernel.py:283: DeprecationWarning: `should_run_async` will not call `transform_cell` automatically in the future. Please pass the result to `transformed_cell` argument and any exception that happen during thetransform in `preprocessing_exc_tuple` in IPython 7.17 and above.\n",
      "  and should_run_async(code)\n"
     ]
    },
    {
     "data": {
      "text/html": [
       "<div>\n",
       "<style scoped>\n",
       "    .dataframe tbody tr th:only-of-type {\n",
       "        vertical-align: middle;\n",
       "    }\n",
       "\n",
       "    .dataframe tbody tr th {\n",
       "        vertical-align: top;\n",
       "    }\n",
       "\n",
       "    .dataframe thead th {\n",
       "        text-align: right;\n",
       "    }\n",
       "</style>\n",
       "<table border=\"1\" class=\"dataframe\">\n",
       "  <thead>\n",
       "    <tr style=\"text-align: right;\">\n",
       "      <th></th>\n",
       "      <th>set_storage_0</th>\n",
       "      <th>set_storage_1</th>\n",
       "    </tr>\n",
       "  </thead>\n",
       "  <tbody>\n",
       "    <tr>\n",
       "      <th>0</th>\n",
       "      <td>-0.417069</td>\n",
       "      <td>0.618999</td>\n",
       "    </tr>\n",
       "    <tr>\n",
       "      <th>1</th>\n",
       "      <td>-0.320884</td>\n",
       "      <td>1.385710</td>\n",
       "    </tr>\n",
       "    <tr>\n",
       "      <th>2</th>\n",
       "      <td>-0.313392</td>\n",
       "      <td>1.183510</td>\n",
       "    </tr>\n",
       "    <tr>\n",
       "      <th>3</th>\n",
       "      <td>-0.413376</td>\n",
       "      <td>1.695843</td>\n",
       "    </tr>\n",
       "    <tr>\n",
       "      <th>4</th>\n",
       "      <td>-0.430983</td>\n",
       "      <td>1.272136</td>\n",
       "    </tr>\n",
       "    <tr>\n",
       "      <th>...</th>\n",
       "      <td>...</td>\n",
       "      <td>...</td>\n",
       "    </tr>\n",
       "    <tr>\n",
       "      <th>284</th>\n",
       "      <td>-0.101097</td>\n",
       "      <td>-0.985636</td>\n",
       "    </tr>\n",
       "    <tr>\n",
       "      <th>285</th>\n",
       "      <td>-0.220069</td>\n",
       "      <td>0.238733</td>\n",
       "    </tr>\n",
       "    <tr>\n",
       "      <th>286</th>\n",
       "      <td>-0.173903</td>\n",
       "      <td>-0.184022</td>\n",
       "    </tr>\n",
       "    <tr>\n",
       "      <th>287</th>\n",
       "      <td>-0.793038</td>\n",
       "      <td>-0.529568</td>\n",
       "    </tr>\n",
       "    <tr>\n",
       "      <th>288</th>\n",
       "      <td>NaN</td>\n",
       "      <td>NaN</td>\n",
       "    </tr>\n",
       "  </tbody>\n",
       "</table>\n",
       "<p>289 rows × 2 columns</p>\n",
       "</div>"
      ],
      "text/plain": [
       "     set_storage_0  set_storage_1\n",
       "0        -0.417069       0.618999\n",
       "1        -0.320884       1.385710\n",
       "2        -0.313392       1.183510\n",
       "3        -0.413376       1.695843\n",
       "4        -0.430983       1.272136\n",
       "..             ...            ...\n",
       "284      -0.101097      -0.985636\n",
       "285      -0.220069       0.238733\n",
       "286      -0.173903      -0.184022\n",
       "287      -0.793038      -0.529568\n",
       "288            NaN            NaN\n",
       "\n",
       "[289 rows x 2 columns]"
      ]
     },
     "execution_count": 187,
     "metadata": {},
     "output_type": "execute_result"
    }
   ],
   "source": [
    "pd.DataFrame(dict_chronic[\"all_acts\"], columns = [\"set_storage_0\", \"set_storage_1\"]) # nan for action at final ts\n",
    "pd.DataFrame({col:dict_chronic[col] for col in (\"all_ts\", \"all_rews\", \"all_rews_bu\")})\n",
    "pd.DataFrame(dict_chronic[\"all_storage_setpoints\"], columns = [\"storage_setpoint_0\", \"storage_setpoint_1\"])"
   ]
  },
  {
   "cell_type": "code",
   "execution_count": 134,
   "metadata": {},
   "outputs": [
    {
     "data": {
      "text/plain": [
       "(array([ 0.43522218,  0.43620348, -0.7250852 , -0.62380534, -0.6252446 ,\n",
       "         0.6587491 ,  0.01473814,  0.03032282, -0.03185767,  0.0211238 ,\n",
       "         0.08461636,  0.063299  , -0.01329887, -0.05826628, -0.01852429,\n",
       "        -0.05348825,  0.06889462, -0.0191873 , -0.03178546, -0.07468337,\n",
       "        -0.05994064,  0.06419131,  0.05869201,  0.19158846, -0.00789621,\n",
       "         0.00799766,  0.45225596,  0.5357014 ,  0.5       ,  0.5       ,\n",
       "         0.5       ,  0.5       ], dtype=float32),\n",
       " array([0.45225597, 0.53570137]),\n",
       " array([0.5, 0.5], dtype=float32),\n",
       " array([0., 0.], dtype=float32))"
      ]
     },
     "execution_count": 134,
     "metadata": {},
     "output_type": "execute_result"
    }
   ],
   "source": [
    "dict_chronic[\"all_gymobs\"][0], dict_chronic[\"all_storage_setpoints\"][0][0,:], (dict_chronic[\"all_obs\"][0].storage_charge - env.storage_Emin)/(env.storage_Emax - env.storage_Emin), dict_chronic[\"all_obs\"][0].storage_power"
   ]
  },
  {
   "cell_type": "code",
   "execution_count": 150,
   "metadata": {},
   "outputs": [
    {
     "data": {
      "text/plain": [
       "array([0.45225596, 0.5357014 ], dtype=float32)"
      ]
     },
     "execution_count": 150,
     "metadata": {},
     "output_type": "execute_result"
    }
   ],
   "source": [
    "attr_index = np.where(np.array(gym_env.observation_space._attr_to_keep) == \"storage_capacity_setpoint\")[0][0]\n",
    "dims = [0] + gym_env.observation_space._dims\n",
    "dict_chronic[\"all_gymobs\"][0][dims[attr_index]:dims[attr_index+1]]"
   ]
  }
 ],
 "metadata": {
  "kernelspec": {
   "display_name": "Python 3.8.13 ('baselines_dev')",
   "language": "python",
   "name": "python3"
  },
  "language_info": {
   "codemirror_mode": {
    "name": "ipython",
    "version": 3
   },
   "file_extension": ".py",
   "mimetype": "text/x-python",
   "name": "python",
   "nbconvert_exporter": "python",
   "pygments_lexer": "ipython3",
   "version": "3.8.13"
  },
  "orig_nbformat": 4,
  "vscode": {
   "interpreter": {
    "hash": "c4f61d462cb5c7869e4a197937948bf593da4f031038557c2fa13a5c9eff1b5f"
   }
  }
 },
 "nbformat": 4,
 "nbformat_minor": 2
}
