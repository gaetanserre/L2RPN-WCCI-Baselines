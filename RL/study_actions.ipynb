{
 "cells": [
  {
   "cell_type": "code",
   "execution_count": 3,
   "metadata": {},
   "outputs": [],
   "source": [
    "import os\n",
    "import grid2op\n",
    "from grid2op.Parameters import Parameters\n",
    "import numpy as np\n",
    "import shutil\n",
    "from examples.ppo_stable_baselines.C_evaluate_trained_model import load_agent\n",
    "import matplotlib.pyplot as plt\n",
    "\n",
    "from sklearn.cluster import AffinityPropagation, KMeans\n",
    "from tqdm.notebook import tqdm\n",
    "from grid2op.Runner import Runner\n",
    "from lightsim2grid import LightSimBackend\n",
    "from CustomGymEnv import CustomGymEnv\n",
    "\n",
    "path_agents = \"study_rl_agent\""
   ]
  },
  {
   "cell_type": "code",
   "execution_count": 4,
   "metadata": {},
   "outputs": [],
   "source": [
    "ENV_NAME = \"l2rpn_wcci_2022_dev_val\"\n",
    "\n",
    "p = Parameters()\n",
    "p.LIMIT_INFEASIBLE_CURTAILMENT_STORAGE_ACTION = True\n",
    "\n",
    "env = grid2op.make(ENV_NAME, backend=LightSimBackend(), param=p)\n",
    "\n",
    "shutil.rmtree(os.path.abspath(path_agents), ignore_errors=True)\n",
    "if not os.path.exists(path_agents):\n",
    "    os.mkdir(path_agents)\n",
    "\n",
    "# make a runner for this agent\n",
    "agent_name = \"CustomGymEnv_2022-05-06_18-51\"\n",
    "gymenv_kwargs = {\"safe_max_rho\": 0.1}\n",
    "\n",
    "path_agent = os.path.join(path_agents, agent_name)\n",
    "shutil.rmtree(os.path.abspath(path_agent), ignore_errors=True)\n",
    "load_path = os.path.join(\"saved_model\", agent_name)\n",
    "\n",
    "my_agent = load_agent(env, load_path=\"saved_model\", name=agent_name, gymenv_class=CustomGymEnv, gymenv_kwargs=gymenv_kwargs)"
   ]
  },
  {
   "cell_type": "code",
   "execution_count": 5,
   "metadata": {},
   "outputs": [
    {
     "data": {
      "application/vnd.jupyter.widget-view+json": {
       "model_id": "7e555ae0e3ae4b3db927cc9db51945a1",
       "version_major": 2,
       "version_minor": 0
      },
      "text/plain": [
       "episode:   0%|          | 0/21 [00:00<?, ?it/s]"
      ]
     },
     "metadata": {},
     "output_type": "display_data"
    },
    {
     "data": {
      "application/vnd.jupyter.widget-view+json": {
       "model_id": "ef977a57ca7e4e8ab7fdc623852f8263",
       "version_major": 2,
       "version_minor": 0
      },
      "text/plain": [
       "episode:   0%|          | 0/2017 [00:00<?, ?it/s]"
      ]
     },
     "metadata": {},
     "output_type": "display_data"
    },
    {
     "data": {
      "application/vnd.jupyter.widget-view+json": {
       "model_id": "6aa25e399b744ccaae911c8b71ad46dc",
       "version_major": 2,
       "version_minor": 0
      },
      "text/plain": [
       "episode:   0%|          | 0/2017 [00:00<?, ?it/s]"
      ]
     },
     "metadata": {},
     "output_type": "display_data"
    },
    {
     "data": {
      "application/vnd.jupyter.widget-view+json": {
       "model_id": "56ac4f5b7c574d7daca95048f8363db2",
       "version_major": 2,
       "version_minor": 0
      },
      "text/plain": [
       "episode:   0%|          | 0/2017 [00:00<?, ?it/s]"
      ]
     },
     "metadata": {},
     "output_type": "display_data"
    },
    {
     "data": {
      "application/vnd.jupyter.widget-view+json": {
       "model_id": "4ac34e00725543318a160d3b892bee7d",
       "version_major": 2,
       "version_minor": 0
      },
      "text/plain": [
       "episode:   0%|          | 0/2017 [00:00<?, ?it/s]"
      ]
     },
     "metadata": {},
     "output_type": "display_data"
    },
    {
     "data": {
      "application/vnd.jupyter.widget-view+json": {
       "model_id": "544aff98f1934a1198abbd5d3e574a1f",
       "version_major": 2,
       "version_minor": 0
      },
      "text/plain": [
       "episode:   0%|          | 0/2017 [00:00<?, ?it/s]"
      ]
     },
     "metadata": {},
     "output_type": "display_data"
    },
    {
     "data": {
      "application/vnd.jupyter.widget-view+json": {
       "model_id": "cf006993e6d94729946d3d820382a80a",
       "version_major": 2,
       "version_minor": 0
      },
      "text/plain": [
       "episode:   0%|          | 0/2017 [00:00<?, ?it/s]"
      ]
     },
     "metadata": {},
     "output_type": "display_data"
    },
    {
     "data": {
      "application/vnd.jupyter.widget-view+json": {
       "model_id": "65750ace6c7640f29b34880dc900ef81",
       "version_major": 2,
       "version_minor": 0
      },
      "text/plain": [
       "episode:   0%|          | 0/2017 [00:00<?, ?it/s]"
      ]
     },
     "metadata": {},
     "output_type": "display_data"
    },
    {
     "data": {
      "application/vnd.jupyter.widget-view+json": {
       "model_id": "e29043437998461e8a80e98a3e2ed991",
       "version_major": 2,
       "version_minor": 0
      },
      "text/plain": [
       "episode:   0%|          | 0/2017 [00:00<?, ?it/s]"
      ]
     },
     "metadata": {},
     "output_type": "display_data"
    },
    {
     "data": {
      "application/vnd.jupyter.widget-view+json": {
       "model_id": "90e576796fe54cf9bdca73b32c99f317",
       "version_major": 2,
       "version_minor": 0
      },
      "text/plain": [
       "episode:   0%|          | 0/2017 [00:00<?, ?it/s]"
      ]
     },
     "metadata": {},
     "output_type": "display_data"
    },
    {
     "data": {
      "application/vnd.jupyter.widget-view+json": {
       "model_id": "acc2d6364c5e4030a5fba9b5629f20ce",
       "version_major": 2,
       "version_minor": 0
      },
      "text/plain": [
       "episode:   0%|          | 0/2017 [00:00<?, ?it/s]"
      ]
     },
     "metadata": {},
     "output_type": "display_data"
    },
    {
     "data": {
      "application/vnd.jupyter.widget-view+json": {
       "model_id": "ecdf1b92aeee47709a10b5deb07517e3",
       "version_major": 2,
       "version_minor": 0
      },
      "text/plain": [
       "episode:   0%|          | 0/2017 [00:00<?, ?it/s]"
      ]
     },
     "metadata": {},
     "output_type": "display_data"
    },
    {
     "data": {
      "application/vnd.jupyter.widget-view+json": {
       "model_id": "43ed2a318f244522ab8fc724ff8e8d50",
       "version_major": 2,
       "version_minor": 0
      },
      "text/plain": [
       "episode:   0%|          | 0/2017 [00:00<?, ?it/s]"
      ]
     },
     "metadata": {},
     "output_type": "display_data"
    },
    {
     "data": {
      "application/vnd.jupyter.widget-view+json": {
       "model_id": "cf4125fd7dad448580a2b0e1aa2adc19",
       "version_major": 2,
       "version_minor": 0
      },
      "text/plain": [
       "episode:   0%|          | 0/2017 [00:00<?, ?it/s]"
      ]
     },
     "metadata": {},
     "output_type": "display_data"
    },
    {
     "data": {
      "application/vnd.jupyter.widget-view+json": {
       "model_id": "d049e9dba7cb41668915a568e2f9174a",
       "version_major": 2,
       "version_minor": 0
      },
      "text/plain": [
       "episode:   0%|          | 0/2017 [00:00<?, ?it/s]"
      ]
     },
     "metadata": {},
     "output_type": "display_data"
    },
    {
     "data": {
      "application/vnd.jupyter.widget-view+json": {
       "model_id": "2ce093be1bb74d708278eb4b781eba31",
       "version_major": 2,
       "version_minor": 0
      },
      "text/plain": [
       "episode:   0%|          | 0/2017 [00:00<?, ?it/s]"
      ]
     },
     "metadata": {},
     "output_type": "display_data"
    },
    {
     "data": {
      "application/vnd.jupyter.widget-view+json": {
       "model_id": "110a8e4ab3944a78bdd0b210b181d65f",
       "version_major": 2,
       "version_minor": 0
      },
      "text/plain": [
       "episode:   0%|          | 0/2017 [00:00<?, ?it/s]"
      ]
     },
     "metadata": {},
     "output_type": "display_data"
    },
    {
     "data": {
      "application/vnd.jupyter.widget-view+json": {
       "model_id": "0a24e75be1ac48e1aff90595e2180247",
       "version_major": 2,
       "version_minor": 0
      },
      "text/plain": [
       "episode:   0%|          | 0/2017 [00:00<?, ?it/s]"
      ]
     },
     "metadata": {},
     "output_type": "display_data"
    },
    {
     "data": {
      "application/vnd.jupyter.widget-view+json": {
       "model_id": "fe8430ec1a98404494763010c6c64261",
       "version_major": 2,
       "version_minor": 0
      },
      "text/plain": [
       "episode:   0%|          | 0/2017 [00:00<?, ?it/s]"
      ]
     },
     "metadata": {},
     "output_type": "display_data"
    },
    {
     "data": {
      "application/vnd.jupyter.widget-view+json": {
       "model_id": "74c6e9c6f8d74d26a4810b1f36981b3e",
       "version_major": 2,
       "version_minor": 0
      },
      "text/plain": [
       "episode:   0%|          | 0/2017 [00:00<?, ?it/s]"
      ]
     },
     "metadata": {},
     "output_type": "display_data"
    },
    {
     "data": {
      "application/vnd.jupyter.widget-view+json": {
       "model_id": "e3178d29b9e94966b7e02f3ef2eca249",
       "version_major": 2,
       "version_minor": 0
      },
      "text/plain": [
       "episode:   0%|          | 0/2017 [00:00<?, ?it/s]"
      ]
     },
     "metadata": {},
     "output_type": "display_data"
    },
    {
     "data": {
      "application/vnd.jupyter.widget-view+json": {
       "model_id": "c8f5a0b0cae74b45a0c747e6dae1f080",
       "version_major": 2,
       "version_minor": 0
      },
      "text/plain": [
       "episode:   0%|          | 0/2017 [00:00<?, ?it/s]"
      ]
     },
     "metadata": {},
     "output_type": "display_data"
    }
   ],
   "source": [
    "runner = Runner(**env.get_params_for_runner(),\n",
    "                agentClass=None,\n",
    "                agentInstance=my_agent\n",
    "                )\n",
    "res = runner.run(path_save=path_agent,\n",
    "                 nb_episode=21,\n",
    "                 pbar=tqdm)"
   ]
  },
  {
   "cell_type": "code",
   "execution_count": 6,
   "metadata": {},
   "outputs": [
    {
     "data": {
      "text/plain": [
       "21"
      ]
     },
     "execution_count": 6,
     "metadata": {},
     "output_type": "execute_result"
    }
   ],
   "source": [
    "from grid2op.Episode import EpisodeData\n",
    "episode_studied = EpisodeData.list_episode(path_agent)\n",
    "len(episode_studied)"
   ]
  },
  {
   "cell_type": "code",
   "execution_count": 8,
   "metadata": {},
   "outputs": [],
   "source": [
    "curtailment_actions = []\n",
    "storage_power_actions = []\n",
    "\n",
    "for ep in episode_studied:\n",
    "  this_episode = EpisodeData.from_disk(*ep)\n",
    "  for act in this_episode.actions:\n",
    "      dict_ = act.as_dict()\n",
    "      if \"storage_power\" in dict_:\n",
    "        storage_power_actions.append(dict_[\"storage_power\"])\n",
    "      if \"curtailment\" in dict_:\n",
    "        curtailment_actions.append(dict_[\"curtailment\"][dict_[\"curtailment\"] >= 0])\n",
    "\n",
    "curtailment_actions = np.array(curtailment_actions)\n",
    "storage_power_actions = np.array(storage_power_actions)"
   ]
  },
  {
   "cell_type": "code",
   "execution_count": 9,
   "metadata": {},
   "outputs": [
    {
     "name": "stderr",
     "output_type": "stream",
     "text": [
      "/Users/gaetanserre/miniconda3/envs/L2RPN/lib/python3.8/site-packages/numpy/core/fromnumeric.py:3723: RuntimeWarning: Degrees of freedom <= 0 for slice\n",
      "  return _methods._var(a, axis=axis, dtype=dtype, out=out, ddof=ddof,\n",
      "/Users/gaetanserre/miniconda3/envs/L2RPN/lib/python3.8/site-packages/numpy/core/_methods.py:222: RuntimeWarning: invalid value encountered in true_divide\n",
      "  arrmean = um.true_divide(arrmean, div, out=arrmean, casting='unsafe',\n",
      "/Users/gaetanserre/miniconda3/envs/L2RPN/lib/python3.8/site-packages/numpy/core/_methods.py:254: RuntimeWarning: invalid value encountered in double_scalars\n",
      "  ret = ret.dtype.type(ret / rcount)\n",
      "/Users/gaetanserre/miniconda3/envs/L2RPN/lib/python3.8/site-packages/numpy/core/fromnumeric.py:3440: RuntimeWarning: Mean of empty slice.\n",
      "  return _methods._mean(a, axis=axis, dtype=dtype,\n",
      "/Users/gaetanserre/miniconda3/envs/L2RPN/lib/python3.8/site-packages/numpy/core/_methods.py:189: RuntimeWarning: invalid value encountered in double_scalars\n",
      "  ret = ret.dtype.type(ret / rcount)\n"
     ]
    },
    {
     "ename": "IndexError",
     "evalue": "tuple index out of range",
     "output_type": "error",
     "traceback": [
      "\u001b[0;31m---------------------------------------------------------------------------\u001b[0m",
      "\u001b[0;31mIndexError\u001b[0m                                Traceback (most recent call last)",
      "\u001b[1;32m/Users/gaetanserre/Documents/Projects/L2RPN-WCCI-Baselines/RL/study_actions.ipynb Cell 6'\u001b[0m in \u001b[0;36m<cell line: 5>\u001b[0;34m()\u001b[0m\n\u001b[1;32m      <a href='vscode-notebook-cell:/Users/gaetanserre/Documents/Projects/L2RPN-WCCI-Baselines/RL/study_actions.ipynb#ch0000006?line=1'>2</a>\u001b[0m mean \u001b[39m=\u001b[39m np\u001b[39m.\u001b[39mmean(curtailment_actions, axis\u001b[39m=\u001b[39m\u001b[39m0\u001b[39m)\n\u001b[1;32m      <a href='vscode-notebook-cell:/Users/gaetanserre/Documents/Projects/L2RPN-WCCI-Baselines/RL/study_actions.ipynb#ch0000006?line=3'>4</a>\u001b[0m plt\u001b[39m.\u001b[39mfigure(figsize\u001b[39m=\u001b[39m(\u001b[39m8\u001b[39m, \u001b[39m6\u001b[39m))\n\u001b[0;32m----> <a href='vscode-notebook-cell:/Users/gaetanserre/Documents/Projects/L2RPN-WCCI-Baselines/RL/study_actions.ipynb#ch0000006?line=4'>5</a>\u001b[0m plt\u001b[39m.\u001b[39mbar(np\u001b[39m.\u001b[39marange(\u001b[39m0\u001b[39m, curtailment_actions\u001b[39m.\u001b[39;49mshape[\u001b[39m1\u001b[39;49m], \u001b[39m1\u001b[39m), var)\n\u001b[1;32m      <a href='vscode-notebook-cell:/Users/gaetanserre/Documents/Projects/L2RPN-WCCI-Baselines/RL/study_actions.ipynb#ch0000006?line=5'>6</a>\u001b[0m plt\u001b[39m.\u001b[39mxlabel(\u001b[39m\"\u001b[39m\u001b[39mRenewable power plants\u001b[39m\u001b[39m\"\u001b[39m)\n\u001b[1;32m      <a href='vscode-notebook-cell:/Users/gaetanserre/Documents/Projects/L2RPN-WCCI-Baselines/RL/study_actions.ipynb#ch0000006?line=6'>7</a>\u001b[0m _\u001b[39m=\u001b[39mplt\u001b[39m.\u001b[39mylabel(\u001b[39m\"\u001b[39m\u001b[39mCurtailment variance\u001b[39m\u001b[39m\"\u001b[39m)\n",
      "\u001b[0;31mIndexError\u001b[0m: tuple index out of range"
     ]
    },
    {
     "data": {
      "text/plain": [
       "<Figure size 576x432 with 0 Axes>"
      ]
     },
     "metadata": {},
     "output_type": "display_data"
    }
   ],
   "source": [
    "var = np.var(curtailment_actions, axis=0)\n",
    "mean = np.mean(curtailment_actions, axis=0)\n",
    "\n",
    "plt.figure(figsize=(8, 6))\n",
    "plt.bar(np.arange(0, curtailment_actions.shape[1], 1), var)\n",
    "plt.xlabel(\"Renewable power plants\")\n",
    "_=plt.ylabel(\"Curtailment variance\")"
   ]
  },
  {
   "cell_type": "code",
   "execution_count": 10,
   "metadata": {},
   "outputs": [
    {
     "ename": "IndexError",
     "evalue": "tuple index out of range",
     "output_type": "error",
     "traceback": [
      "\u001b[0;31m---------------------------------------------------------------------------\u001b[0m",
      "\u001b[0;31mIndexError\u001b[0m                                Traceback (most recent call last)",
      "\u001b[1;32m/Users/gaetanserre/Documents/Projects/L2RPN-WCCI-Baselines/RL/study_actions.ipynb Cell 7'\u001b[0m in \u001b[0;36m<cell line: 2>\u001b[0;34m()\u001b[0m\n\u001b[1;32m      <a href='vscode-notebook-cell:/Users/gaetanserre/Documents/Projects/L2RPN-WCCI-Baselines/RL/study_actions.ipynb#ch0000007?line=0'>1</a>\u001b[0m plt\u001b[39m.\u001b[39mfigure(figsize\u001b[39m=\u001b[39m(\u001b[39m8\u001b[39m, \u001b[39m6\u001b[39m))\n\u001b[0;32m----> <a href='vscode-notebook-cell:/Users/gaetanserre/Documents/Projects/L2RPN-WCCI-Baselines/RL/study_actions.ipynb#ch0000007?line=1'>2</a>\u001b[0m plt\u001b[39m.\u001b[39mbar(np\u001b[39m.\u001b[39marange(\u001b[39m0\u001b[39m, curtailment_actions\u001b[39m.\u001b[39;49mshape[\u001b[39m1\u001b[39;49m], \u001b[39m1\u001b[39m), mean)\n\u001b[1;32m      <a href='vscode-notebook-cell:/Users/gaetanserre/Documents/Projects/L2RPN-WCCI-Baselines/RL/study_actions.ipynb#ch0000007?line=2'>3</a>\u001b[0m plt\u001b[39m.\u001b[39mxlabel(\u001b[39m\"\u001b[39m\u001b[39mRenewable power plants\u001b[39m\u001b[39m\"\u001b[39m)\n\u001b[1;32m      <a href='vscode-notebook-cell:/Users/gaetanserre/Documents/Projects/L2RPN-WCCI-Baselines/RL/study_actions.ipynb#ch0000007?line=3'>4</a>\u001b[0m _\u001b[39m=\u001b[39mplt\u001b[39m.\u001b[39mylabel(\u001b[39m\"\u001b[39m\u001b[39mCurtailment mean\u001b[39m\u001b[39m\"\u001b[39m)\n",
      "\u001b[0;31mIndexError\u001b[0m: tuple index out of range"
     ]
    },
    {
     "data": {
      "text/plain": [
       "<Figure size 576x432 with 0 Axes>"
      ]
     },
     "metadata": {},
     "output_type": "display_data"
    }
   ],
   "source": [
    "plt.figure(figsize=(8, 6))\n",
    "plt.bar(np.arange(0, curtailment_actions.shape[1], 1), mean)\n",
    "plt.xlabel(\"Renewable power plants\")\n",
    "_=plt.ylabel(\"Curtailment mean\")"
   ]
  },
  {
   "cell_type": "code",
   "execution_count": 13,
   "metadata": {},
   "outputs": [
    {
     "data": {
      "image/png": "[encoded data removed]",
      "text/plain": [
       "<Figure size 576x432 with 1 Axes>"
      ]
     },
     "metadata": {
      "needs_background": "light"
     },
     "output_type": "display_data"
    }
   ],
   "source": [
    "var = np.var(storage_power_actions, axis=0)\n",
    "mean = np.mean(storage_power_actions, axis=0)\n",
    "\n",
    "plt.figure(figsize=(8, 6))\n",
    "plt.bar(np.arange(0, storage_power_actions.shape[1], 1), var)\n",
    "plt.xlabel(\"Batteries\")\n",
    "_=plt.ylabel(\"storage_power variance\")"
   ]
  },
  {
   "cell_type": "code",
   "execution_count": 14,
   "metadata": {},
   "outputs": [
    {
     "data": {
      "image/png": "[encoded data removed]",
      "text/plain": [
       "<Figure size 576x432 with 1 Axes>"
      ]
     },
     "metadata": {
      "needs_background": "light"
     },
     "output_type": "display_data"
    }
   ],
   "source": [
    "plt.figure(figsize=(8, 6))\n",
    "plt.bar(np.arange(0, storage_power_actions.shape[1], 1), mean)\n",
    "plt.xlabel(\"Batteries\")\n",
    "_=plt.ylabel(\"storage_power mean\")"
   ]
  },
  {
   "cell_type": "code",
   "execution_count": 11,
   "metadata": {},
   "outputs": [
    {
     "name": "stdout",
     "output_type": "stream",
     "text": [
      "64.8569% of the data are in the cluster 0\n",
      "The average distance to the cluster center is 0.0001232682989211753\n",
      "30.9970% of the data are in the cluster 1\n",
      "The average distance to the cluster center is 0.0004292291996534914\n",
      "0.5923% of the data are in the cluster 2\n",
      "The average distance to the cluster center is 0.0002448059094604105\n",
      "2.0731% of the data are in the cluster 3\n",
      "The average distance to the cluster center is 7.669139449717477e-05\n",
      "0.1974% of the data are in the cluster 4\n",
      "The average distance to the cluster center is 0.0002752730215433985\n",
      "0.0987% of the data are in the cluster 5\n",
      "The average distance to the cluster center is 0.0\n",
      "0.2962% of the data are in the cluster 6\n",
      "The average distance to the cluster center is 4.642151543521322e-05\n",
      "0.0987% of the data are in the cluster 7\n",
      "The average distance to the cluster center is 1.6521176010920818e-18\n",
      "0.6910% of the data are in the cluster 8\n",
      "The average distance to the cluster center is 0.00010171866597374901\n",
      "0.0987% of the data are in the cluster 9\n",
      "The average distance to the cluster center is 1.6190751890996458e-17\n"
     ]
    }
   ],
   "source": [
    "n_clusters = 10\n",
    "clustering = KMeans(n_clusters=n_clusters, random_state=42).fit(curtailment_actions)\n",
    "for i in range(n_clusters):\n",
    "  print(f\"{((clustering.labels_==i).sum() / clustering.labels_.shape[0]) * 100:.4f}% of the data are in the cluster {i}\")\n",
    "  mask = clustering.labels_==i\n",
    "  mean_dist = ((curtailment_actions[mask] - clustering.cluster_centers_[i])**2).sum(axis=0).mean()\n",
    "  print(f\"The average distance to the cluster center is {mean_dist:.4f}\")"
   ]
  },
  {
   "cell_type": "code",
   "execution_count": 15,
   "metadata": {},
   "outputs": [
    {
     "name": "stdout",
     "output_type": "stream",
     "text": [
      "11.1491% of the data are in the cluster 0\n",
      "The average distance to the cluster center is 0.0002\n",
      "56.7060% of the data are in the cluster 1\n",
      "The average distance to the cluster center is 0.0002\n",
      "0.1827% of the data are in the cluster 2\n",
      "The average distance to the cluster center is 0.0001\n",
      "0.0236% of the data are in the cluster 3\n",
      "The average distance to the cluster center is 0.0002\n",
      "0.9428% of the data are in the cluster 4\n",
      "The average distance to the cluster center is 0.0002\n",
      "0.0589% of the data are in the cluster 5\n",
      "The average distance to the cluster center is 0.0002\n",
      "25.0796% of the data are in the cluster 6\n",
      "The average distance to the cluster center is 0.0002\n",
      "5.1621% of the data are in the cluster 7\n",
      "The average distance to the cluster center is 0.0002\n",
      "0.0884% of the data are in the cluster 8\n",
      "The average distance to the cluster center is 0.0001\n",
      "0.6070% of the data are in the cluster 9\n",
      "The average distance to the cluster center is 0.0001\n"
     ]
    }
   ],
   "source": [
    "n_clusters = 10\n",
    "clustering = KMeans(n_clusters=n_clusters, random_state=42).fit(storage_power_actions)\n",
    "for i in range(n_clusters):\n",
    "  print(f\"{((clustering.labels_==i).sum() / clustering.labels_.shape[0]) * 100:.4f}% of the data are in the cluster {i}\")\n",
    "  mask = clustering.labels_==i\n",
    "  mean_dist = ((storage_power_actions[mask] - clustering.cluster_centers_[i])**2).sum(axis=0).mean()\n",
    "  print(f\"The average distance to the cluster center is {mean_dist:.4f}\")"
   ]
  }
 ],
 "metadata": {
  "kernelspec": {
   "display_name": "Python 3.8.13 ('baselines_dev')",
   "language": "python",
   "name": "python3"
  },
  "language_info": {
   "codemirror_mode": {
    "name": "ipython",
    "version": 3
   },
   "file_extension": ".py",
   "mimetype": "text/x-python",
   "name": "python",
   "nbconvert_exporter": "python",
   "pygments_lexer": "ipython3",
   "version": "3.8.13"
  },
  "orig_nbformat": 4,
  "vscode": {
   "interpreter": {
    "hash": "c4f61d462cb5c7869e4a197937948bf593da4f031038557c2fa13a5c9eff1b5f"
   }
  }
 },
 "nbformat": 4,
 "nbformat_minor": 2
}
